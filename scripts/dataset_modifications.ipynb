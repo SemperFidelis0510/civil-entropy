{
 "cells": [
  {
   "cell_type": "code",
   "execution_count": 17,
   "id": "96270bad-4041-4a43-a49b-6df5c2ba14d2",
   "metadata": {
    "tags": [],
    "ExecuteTime": {
     "end_time": "2023-09-24T16:37:55.922180500Z",
     "start_time": "2023-09-24T16:37:55.912668800Z"
    }
   },
   "outputs": [],
   "source": [
    "import os\n",
    "import json\n",
    "from PIL import Image\n",
    "from utils import print_progress_bar\n",
    "import numpy as np\n",
    "import copy\n",
    "import random"
   ]
  },
  {
   "cell_type": "code",
   "execution_count": 37,
   "id": "d5ce4a6c-e1c1-4be8-b2d2-fa353663b480",
   "metadata": {
    "tags": [],
    "ExecuteTime": {
     "end_time": "2023-09-24T16:43:43.610830300Z",
     "start_time": "2023-09-24T16:43:43.590721700Z"
    }
   },
   "outputs": [],
   "source": [
    "def cut(ds, n):\n",
    "    return ds[:n]\n",
    "\n",
    "\n",
    "def join_labels(ds):\n",
    "    # old_labels = ['plain nature', 'detailed nature', 'Agriculture', 'villages', 'city']\n",
    "    # new_labels = ['nature', 'country', 'city']\n",
    "    new_ds = []\n",
    "\n",
    "    for obj in ds:\n",
    "        label = obj[\"label\"]\n",
    "        if isinstance(label, str):\n",
    "            label = [label]\n",
    "\n",
    "        if 'city' in label:\n",
    "            new_label = 'city'\n",
    "        elif ('Agriculture' in label) or ('villages' in label) or ('country' in label):\n",
    "            new_label = 'country'\n",
    "        elif ('plain nature' in label) or ('detailed nature' in label) or ('nature' in label):\n",
    "            new_label = 'nature'\n",
    "        else:\n",
    "            return 1\n",
    "\n",
    "        # Update the label in the dataset object\n",
    "        obj['label'] = new_label\n",
    "\n",
    "        # Update the file path\n",
    "        old_path = obj[\"path\"]\n",
    "        folder, filename = os.path.split(old_path)\n",
    "        parent_folder = os.path.dirname(folder)\n",
    "        new_folder = os.path.join(parent_folder, new_label)\n",
    "        new_path = os.path.join(new_folder, filename)\n",
    "\n",
    "        # Move the file to the new path\n",
    "        # shutil.move(old_path, new_path)\n",
    "\n",
    "        # Update the path in the dataset object\n",
    "        obj[\"path\"] = new_path\n",
    "\n",
    "        new_ds.append(obj)\n",
    "\n",
    "    return new_ds\n",
    "\n",
    "\n",
    "def shuffle_dataset(ds):\n",
    "    \"\"\"Shuffles the given dataset list randomly.\"\"\"\n",
    "    random.shuffle(ds)\n",
    "    return ds\n",
    "\n",
    "\n",
    "def augment_data(ds):\n",
    "    new_ds = []\n",
    "    for obj in ds:\n",
    "        cop_obj = copy.deepcopy(obj)\n",
    "        for i in range(4):\n",
    "            for j in range(2):\n",
    "                for method in cop_obj['entropy_results']:\n",
    "                    if method['method'] == 'dwt':\n",
    "                        continue\n",
    "                    else:\n",
    "                        arr = np.array(method['result'], dtype=object)\n",
    "                        # Determine the axes based on the shape of arr\n",
    "                        if arr.ndim == 3:\n",
    "                            axes_to_rotate = (1, 2)\n",
    "                        elif arr.ndim == 2:\n",
    "                            axes_to_rotate = (0, 1)\n",
    "                        else:\n",
    "                            continue  # Skip if the array has unexpected dimensions\n",
    "\n",
    "                        # Rotate the array by 90 degrees 'i' times\n",
    "                        arr = np.rot90(arr, k=i, axes=axes_to_rotate)\n",
    "                        # Flip the array if j is 1\n",
    "                        if j:\n",
    "                            arr = np.flip(arr, axis=0)\n",
    "                        method['result'] = arr.tolist()\n",
    "                new_ds.append(cop_obj)\n",
    "    return new_ds\n",
    "\n",
    "\n",
    "def count_label(ds):\n",
    "    labels = {'nature': 0, 'country': 0, 'city': 0, 'total': 0}\n",
    "    for obj in ds:\n",
    "        labels[obj[\"label\"]] += 1\n",
    "        labels['total'] += 1\n",
    "\n",
    "    for key, val in labels.items():\n",
    "        print(key, val)\n",
    "\n",
    "    return labels\n",
    "\n",
    "\n",
    "def augment_images_in_folder(root_folder):\n",
    "    total_images = sum([len(files) for r, d, files in os.walk(root_folder)])\n",
    "    processed_images = 0\n",
    "\n",
    "    for subdir, _, files in os.walk(root_folder):\n",
    "        for file in files:\n",
    "            if not file.endswith('.png'):\n",
    "                continue\n",
    "\n",
    "            original_path = os.path.join(subdir, file)\n",
    "            folder, filename = os.path.split(original_path)\n",
    "\n",
    "            # Load the original image\n",
    "            try:\n",
    "                img = Image.open(original_path).convert('RGB')\n",
    "            except FileNotFoundError:\n",
    "                print(f\"\\nFile not found: {original_path}\")\n",
    "                continue\n",
    "\n",
    "            # Generate augmented images\n",
    "            for angle in [0, 90, 180, 270]:\n",
    "                for flip in [False, True]:\n",
    "                    # Generate new path\n",
    "                    new_filename = f\"{os.path.splitext(filename)[0]}_rot{angle}_flip{int(flip)}.png\"\n",
    "                    new_path = os.path.join(folder, new_filename)\n",
    "\n",
    "                    # Skip if the image already exists\n",
    "                    if os.path.exists(new_path):\n",
    "                        continue\n",
    "\n",
    "                    # Rotate and flip\n",
    "                    new_img = img.rotate(angle)\n",
    "                    if flip:\n",
    "                        new_img = new_img.transpose(Image.FLIP_LEFT_RIGHT)\n",
    "\n",
    "                    # Save the new image\n",
    "                    new_img.save(new_path)\n",
    "\n",
    "            processed_images += 1\n",
    "            print(f\"Images processed: {processed_images}/{total_images}\")"
   ]
  },
  {
   "cell_type": "code",
   "execution_count": 42,
   "id": "e5968ac5-6f38-4611-9614-cf067b7785a9",
   "metadata": {
    "tags": [],
    "ExecuteTime": {
     "end_time": "2023-09-24T16:47:04.539196900Z",
     "start_time": "2023-09-24T16:46:48.056107300Z"
    }
   },
   "outputs": [
    {
     "name": "stdout",
     "output_type": "stream",
     "text": [
      "JSON loaded.\n",
      "nature 3513\n",
      "country 2766\n",
      "city 1216\n",
      "total 7495\n"
     ]
    },
    {
     "data": {
      "text/plain": "{'nature': 3513, 'country': 2766, 'city': 1216, 'total': 7495}"
     },
     "execution_count": 42,
     "metadata": {},
     "output_type": "execute_result"
    }
   ],
   "source": [
    "path = \"../datasets/all_data/entropy_results.json\"\n",
    "with open(path, 'r') as f:\n",
    "    dataset = json.load(f)\n",
    "print(\"JSON loaded.\")\n",
    "\n",
    "count_label(dataset)"
   ]
  },
  {
   "cell_type": "code",
   "execution_count": 26,
   "id": "54ba82034bb11bcb",
   "metadata": {
    "tags": [],
    "ExecuteTime": {
     "end_time": "2023-09-24T16:40:44.335010600Z",
     "start_time": "2023-09-24T16:40:44.329028200Z"
    }
   },
   "outputs": [
    {
     "name": "stdout",
     "output_type": "stream",
     "text": [
      "Dataset modification done.\n"
     ]
    }
   ],
   "source": [
    "\n",
    "\n",
    "new_dataset = augment_data(dataset)\n",
    "# new_dataset = join_labels(dataset)\n",
    "# new_dataset = cut(dataset, 256)\n",
    "print(\"Dataset modification done.\")\n",
    "\n",
    "count_label(new_dataset)"
   ]
  },
  {
   "cell_type": "code",
   "execution_count": 27,
   "id": "74c2135c-72e5-4cdf-99cc-b56936ddfd1d",
   "metadata": {
    "tags": [],
    "ExecuteTime": {
     "end_time": "2023-09-24T16:40:49.234796700Z",
     "start_time": "2023-09-24T16:40:47.425448100Z"
    }
   },
   "outputs": [
    {
     "name": "stdout",
     "output_type": "stream",
     "text": [
      "New JSON saved.\n"
     ]
    }
   ],
   "source": [
    "path = \"../datasets/all_data/entropy_results_short.json\"\n",
    "with open(path, 'w') as f:\n",
    "    json.dump(new_dataset, f, indent=4)\n",
    "print(\"New JSON saved.\")"
   ]
  },
  {
   "cell_type": "code",
   "execution_count": null,
   "id": "bb8a2814-ae4b-4ef9-a2a1-5ccbe805ff5e",
   "metadata": {},
   "outputs": [],
   "source": []
  }
 ],
 "metadata": {
  "kernelspec": {
   "display_name": "Python 3 (ipykernel)",
   "language": "python",
   "name": "python3"
  },
  "language_info": {
   "codemirror_mode": {
    "name": "ipython",
    "version": 3
   },
   "file_extension": ".py",
   "mimetype": "text/x-python",
   "name": "python",
   "nbconvert_exporter": "python",
   "pygments_lexer": "ipython3",
   "version": "3.9.17"
  }
 },
 "nbformat": 4,
 "nbformat_minor": 5
}
